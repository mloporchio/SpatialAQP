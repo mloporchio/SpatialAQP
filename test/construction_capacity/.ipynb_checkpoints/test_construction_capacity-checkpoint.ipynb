{
 "cells": [
  {
   "cell_type": "code",
   "execution_count": 1,
   "metadata": {},
   "outputs": [],
   "source": [
    "import pandas as pd\n",
    "import numpy as np\n",
    "import matplotlib.pyplot as plt\n",
    "import os\n",
    "import struct\n",
    "import subprocess\n",
    "import sys"
   ]
  },
  {
   "cell_type": "code",
   "execution_count": 5,
   "metadata": {},
   "outputs": [],
   "source": [
    "# Sizes of the data sets.\n",
    "capacity = [10, 25, 50, 75, 100, 250, 500, 750, 1000, 2500, 5000, 7500]\n",
    "ntrials = 10\n",
    "base_dir = os.getcwd()\n",
    "exec_dir = \"../..\"\n",
    "output_file = '{}/test_construction_capacity.csv'.format(base_dir)"
   ]
  },
  {
   "cell_type": "code",
   "execution_count": 11,
   "metadata": {},
   "outputs": [
    {
     "name": "stdout",
     "output_type": "stream",
     "text": [
      "Testing c=10...\n",
      "Input file: /Users/matteo/Documents/GitHub/SpatialAQP/test/construction_capacity/records_10000_0_1000.bin\n",
      "97953092.0\n",
      "Testing c=25...\n",
      "Input file: /Users/matteo/Documents/GitHub/SpatialAQP/test/construction_capacity/records_10000_0_1000.bin\n",
      "69275335.8\n",
      "Testing c=50...\n",
      "Input file: /Users/matteo/Documents/GitHub/SpatialAQP/test/construction_capacity/records_10000_0_1000.bin\n",
      "58089627.9\n",
      "Testing c=75...\n",
      "Input file: /Users/matteo/Documents/GitHub/SpatialAQP/test/construction_capacity/records_10000_0_1000.bin\n",
      "56745801.5\n",
      "Testing c=100...\n",
      "Input file: /Users/matteo/Documents/GitHub/SpatialAQP/test/construction_capacity/records_10000_0_1000.bin\n",
      "57549164.1\n",
      "Testing c=250...\n",
      "Input file: /Users/matteo/Documents/GitHub/SpatialAQP/test/construction_capacity/records_10000_0_1000.bin\n",
      "52450658.1\n",
      "Testing c=500...\n",
      "Input file: /Users/matteo/Documents/GitHub/SpatialAQP/test/construction_capacity/records_10000_0_1000.bin\n",
      "51413585.7\n",
      "Testing c=750...\n",
      "Input file: /Users/matteo/Documents/GitHub/SpatialAQP/test/construction_capacity/records_10000_0_1000.bin\n",
      "51893446.9\n",
      "Testing c=1000...\n",
      "Input file: /Users/matteo/Documents/GitHub/SpatialAQP/test/construction_capacity/records_10000_0_1000.bin\n",
      "48271747.5\n",
      "Testing c=2500...\n",
      "Input file: /Users/matteo/Documents/GitHub/SpatialAQP/test/construction_capacity/records_10000_0_1000.bin\n",
      "47663025.8\n",
      "Testing c=5000...\n",
      "Input file: /Users/matteo/Documents/GitHub/SpatialAQP/test/construction_capacity/records_10000_0_1000.bin\n",
      "49008659.3\n",
      "Testing c=7500...\n",
      "Input file: /Users/matteo/Documents/GitHub/SpatialAQP/test/construction_capacity/records_10000_0_1000.bin\n",
      "46498265.3\n",
      "Done!\n"
     ]
    }
   ],
   "source": [
    "# Test the implementation.\n",
    "\n",
    "f = open(output_file, 'w')\n",
    "\n",
    "os.chdir(exec_dir)\n",
    "\n",
    "for c in capacity:\n",
    "    print('Testing c={}...'.format(c))\n",
    "    input_file = \"{}/records_10000_0_1000.bin\".format(base_dir)\n",
    "    print('Input file: ' + input_file)\n",
    "    avg = 0\n",
    "    for i in range(0, ntrials):\n",
    "        p = subprocess.run([\"java\", \"TestIndex\", input_file, str(c)], capture_output=True, check=True)\n",
    "        lines = p.stdout.decode('utf-8').splitlines()\n",
    "        avg += int((lines[2].split(' '))[2])\n",
    "    avg = avg / ntrials\n",
    "    print(avg)\n",
    "    f.write('{},{}\\n'.format(c, avg))\n",
    "\n",
    "f.close()\n",
    "\n",
    "os.chdir(base_dir)\n",
    "print('Done!')"
   ]
  },
  {
   "cell_type": "code",
   "execution_count": 2,
   "metadata": {},
   "outputs": [
    {
     "data": {
      "text/html": [
       "<div>\n",
       "<style scoped>\n",
       "    .dataframe tbody tr th:only-of-type {\n",
       "        vertical-align: middle;\n",
       "    }\n",
       "\n",
       "    .dataframe tbody tr th {\n",
       "        vertical-align: top;\n",
       "    }\n",
       "\n",
       "    .dataframe thead th {\n",
       "        text-align: right;\n",
       "    }\n",
       "</style>\n",
       "<table border=\"1\" class=\"dataframe\">\n",
       "  <thead>\n",
       "    <tr style=\"text-align: right;\">\n",
       "      <th></th>\n",
       "      <th>c</th>\n",
       "      <th>time</th>\n",
       "    </tr>\n",
       "  </thead>\n",
       "  <tbody>\n",
       "    <tr>\n",
       "      <th>0</th>\n",
       "      <td>10</td>\n",
       "      <td>97.953</td>\n",
       "    </tr>\n",
       "    <tr>\n",
       "      <th>1</th>\n",
       "      <td>25</td>\n",
       "      <td>69.275</td>\n",
       "    </tr>\n",
       "    <tr>\n",
       "      <th>2</th>\n",
       "      <td>50</td>\n",
       "      <td>58.090</td>\n",
       "    </tr>\n",
       "    <tr>\n",
       "      <th>3</th>\n",
       "      <td>75</td>\n",
       "      <td>56.746</td>\n",
       "    </tr>\n",
       "    <tr>\n",
       "      <th>4</th>\n",
       "      <td>100</td>\n",
       "      <td>57.549</td>\n",
       "    </tr>\n",
       "    <tr>\n",
       "      <th>5</th>\n",
       "      <td>250</td>\n",
       "      <td>52.451</td>\n",
       "    </tr>\n",
       "    <tr>\n",
       "      <th>6</th>\n",
       "      <td>500</td>\n",
       "      <td>51.414</td>\n",
       "    </tr>\n",
       "    <tr>\n",
       "      <th>7</th>\n",
       "      <td>750</td>\n",
       "      <td>51.893</td>\n",
       "    </tr>\n",
       "    <tr>\n",
       "      <th>8</th>\n",
       "      <td>1000</td>\n",
       "      <td>48.272</td>\n",
       "    </tr>\n",
       "    <tr>\n",
       "      <th>9</th>\n",
       "      <td>2500</td>\n",
       "      <td>47.663</td>\n",
       "    </tr>\n",
       "    <tr>\n",
       "      <th>10</th>\n",
       "      <td>5000</td>\n",
       "      <td>49.009</td>\n",
       "    </tr>\n",
       "    <tr>\n",
       "      <th>11</th>\n",
       "      <td>7500</td>\n",
       "      <td>46.498</td>\n",
       "    </tr>\n",
       "  </tbody>\n",
       "</table>\n",
       "</div>"
      ],
      "text/plain": [
       "       c    time\n",
       "0     10  97.953\n",
       "1     25  69.275\n",
       "2     50  58.090\n",
       "3     75  56.746\n",
       "4    100  57.549\n",
       "5    250  52.451\n",
       "6    500  51.414\n",
       "7    750  51.893\n",
       "8   1000  48.272\n",
       "9   2500  47.663\n",
       "10  5000  49.009\n",
       "11  7500  46.498"
      ]
     },
     "execution_count": 2,
     "metadata": {},
     "output_type": "execute_result"
    }
   ],
   "source": [
    "pd.set_option(\"display.precision\", 3)\n",
    "df1 = pd.read_csv('test_construction_capacity.csv', header=None)\n",
    "df1.columns = ['c', 'time']\n",
    "df1.sort_values(ascending=True, by='c', inplace=True)\n",
    "df1['time'] /= 1000000\n",
    "df1"
   ]
  },
  {
   "cell_type": "code",
   "execution_count": 13,
   "metadata": {},
   "outputs": [
    {
     "name": "stdout",
     "output_type": "stream",
     "text": [
      "\\begin{tabular}{rr}\n",
      "\\toprule\n",
      "    c &    time \\\\\n",
      "\\midrule\n",
      "   10 &  97.953 \\\\\n",
      "   25 &  69.275 \\\\\n",
      "   50 &  58.090 \\\\\n",
      "   75 &  56.746 \\\\\n",
      "  100 &  57.549 \\\\\n",
      "  250 &  52.451 \\\\\n",
      "  500 &  51.414 \\\\\n",
      "  750 &  51.893 \\\\\n",
      " 1000 &  48.272 \\\\\n",
      " 2500 &  47.663 \\\\\n",
      " 5000 &  49.009 \\\\\n",
      " 7500 &  46.498 \\\\\n",
      "\\bottomrule\n",
      "\\end{tabular}\n",
      "\n"
     ]
    }
   ],
   "source": [
    "print(df1.to_latex(index=False, escape=False))"
   ]
  },
  {
   "cell_type": "code",
   "execution_count": 6,
   "metadata": {},
   "outputs": [
    {
     "data": {
      "image/png": "[encoded data removed]",
      "text/plain": [
       "<Figure size 576x360 with 1 Axes>"
      ]
     },
     "metadata": {
      "needs_background": "light"
     },
     "output_type": "display_data"
    }
   ],
   "source": [
    "plt.figure(figsize=(8, 5))\n",
    "plt.title(\"MR-tree index construction time (m = 10000)\")\n",
    "plt.xscale('log')\n",
    "plt.plot(df1['c'], df1['time'], marker='o', color='black')\n",
    "plt.ylabel(\"Time [ms]\")\n",
    "plt.xlabel(\"Page capacity (c)\")\n",
    "plt.savefig(\"test_construction_c.png\", dpi=170, format='png', bbox_inches='tight')"
   ]
  },
  {
   "cell_type": "code",
   "execution_count": null,
   "metadata": {},
   "outputs": [],
   "source": []
  }
 ],
 "metadata": {
  "kernelspec": {
   "display_name": "Python 3",
   "language": "python",
   "name": "python3"
  },
  "language_info": {
   "codemirror_mode": {
    "name": "ipython",
    "version": 3
   },
   "file_extension": ".py",
   "mimetype": "text/x-python",
   "name": "python",
   "nbconvert_exporter": "python",
   "pygments_lexer": "ipython3",
   "version": "3.8.3"
  }
 },
 "nbformat": 4,
 "nbformat_minor": 2
}
