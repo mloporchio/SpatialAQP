{
 "cells": [
  {
   "cell_type": "code",
   "execution_count": 22,
   "metadata": {},
   "outputs": [],
   "source": [
    "import pandas as pd\n",
    "import numpy as np\n",
    "import matplotlib.pyplot as plt\n",
    "import os\n",
    "import random\n",
    "import struct\n",
    "import subprocess\n",
    "import sys"
   ]
  },
  {
   "cell_type": "code",
   "execution_count": 102,
   "metadata": {},
   "outputs": [
    {
     "name": "stdout",
     "output_type": "stream",
     "text": [
      "/Users/matteo/Documents/GitHub/SpatialAQP/test/index_query\n"
     ]
    }
   ],
   "source": [
    "base_dir = '/Users/matteo/Documents/GitHub/SpatialAQP/test/index_query'\n",
    "exec_dir = \"../..\"\n",
    "print(base_dir)"
   ]
  },
  {
   "cell_type": "code",
   "execution_count": 103,
   "metadata": {},
   "outputs": [],
   "source": [
    "def generate_records(nrec, minval, maxval):\n",
    "    rec = []\n",
    "    for i in range(0, nrec):\n",
    "        x = random.uniform(minval, maxval)\n",
    "        y = random.uniform(minval, maxval)\n",
    "        rec.append((x,y))\n",
    "    return rec"
   ]
  },
  {
   "cell_type": "code",
   "execution_count": 104,
   "metadata": {},
   "outputs": [],
   "source": [
    "def write_records(filename, rec):\n",
    "    f = open(filename, 'wb')\n",
    "    for r in rec:\n",
    "        f.write(struct.pack('>dd', r[0], r[1]))\n",
    "    f.close()"
   ]
  },
  {
   "cell_type": "code",
   "execution_count": 105,
   "metadata": {},
   "outputs": [],
   "source": [
    "def generate_fraction(nrec, S, Q, f):\n",
    "    rec = []\n",
    "    # compute the fraction of matching records\n",
    "    qrec = int(round(f * nrec))\n",
    "    # generate the matching records\n",
    "    for i in range(0, qrec):\n",
    "        x = random.uniform(Q[0], Q[2])\n",
    "        y = random.uniform(Q[1], Q[3])\n",
    "        rec.append((x,y))\n",
    "    # now generate the non matching records\n",
    "    i = 0\n",
    "    remaining = nrec - qrec\n",
    "    while (i < remaining):\n",
    "        x = random.uniform(S[0], S[2])\n",
    "        y = random.uniform(S[1], S[3])\n",
    "        # try to change the middle or to and\n",
    "        if ((not (Q[0] <= x and x <= Q[2])) or (not (Q[1] <= y and y <= Q[3]))):\n",
    "            rec.append((x,y))\n",
    "            i += 1\n",
    "    random.shuffle(rec)\n",
    "    return rec"
   ]
  },
  {
   "cell_type": "code",
   "execution_count": 106,
   "metadata": {},
   "outputs": [],
   "source": [
    "def compute_fraction(rec, Q):\n",
    "    count = 0\n",
    "    for r in rec:\n",
    "        x = r[0]\n",
    "        y = r[1]\n",
    "        if (Q[0] <= x and x <= Q[2] and Q[1] <= y and y <= Q[3]):\n",
    "            count += 1\n",
    "    return (count / len(rec))"
   ]
  },
  {
   "cell_type": "markdown",
   "metadata": {},
   "source": [
    "---"
   ]
  },
  {
   "cell_type": "code",
   "execution_count": 109,
   "metadata": {},
   "outputs": [
    {
     "name": "stdout",
     "output_type": "stream",
     "text": [
      "Generating m=100000 records with f=10%...\n",
      "Generating m=100000 records with f=20%...\n",
      "Generating m=100000 records with f=30%...\n",
      "Generating m=100000 records with f=40%...\n",
      "Generating m=100000 records with f=50%...\n",
      "Generating m=100000 records with f=60%...\n",
      "Generating m=100000 records with f=70%...\n",
      "Generating m=100000 records with f=80%...\n",
      "Generating m=100000 records with f=90%...\n",
      "Done!\n"
     ]
    }
   ],
   "source": [
    "# Generate the test cases.\n",
    "m = 100000\n",
    "Q = (0, 0, 100, 100)\n",
    "S = (-1000, -1000, 1000, 1000)\n",
    "frac = [0.1, 0.2, 0.3, 0.4, 0.5, 0.6, 0.7, 0.8, 0.9]\n",
    "\n",
    "os.chdir(base_dir)\n",
    "\n",
    "for f in frac:\n",
    "    fp = int(f * 100)\n",
    "    print('Generating m={} records with f={}%...'.format(m, fp))\n",
    "    filename = 'frecords_m={}_f={}.bin'.format(m, fp)\n",
    "    rec = generate_fraction(m, S, Q, f)\n",
    "    write_records(filename, rec)\n",
    "    \n",
    "print('Done!')"
   ]
  },
  {
   "cell_type": "raw",
   "metadata": {},
   "source": [
    "\"\"\"\n",
    "c = 100\n",
    "Q = (0, 0, 100, 100)\n",
    "input_file = \"{}/records_100000_20.bin\".format(base_dir)\n",
    "\n",
    "os.chdir(exec_dir)\n",
    "p = subprocess.run([\"java\", \"TestQuery\", input_file, str(c), \n",
    "                    str(Q[0]), str(Q[1]), str(Q[2]), str(Q[3])], \n",
    "                   capture_output=True)\n",
    "\n",
    "print(p.stdout.decode('utf-8'))\n",
    "print('\\n')\n",
    "print(p.stderr.decode('utf-8'))\n",
    "#lines = p.stderr.decode('utf-8').splitlines()\n",
    "#print(lines)\n",
    "os.chdir(base_dir)\n",
    "\"\"\""
   ]
  },
  {
   "cell_type": "code",
   "execution_count": 113,
   "metadata": {},
   "outputs": [
    {
     "name": "stdout",
     "output_type": "stream",
     "text": [
      "Testing m=100000 records with f=10%...\n",
      "Testing m=100000 records with f=20%...\n",
      "Testing m=100000 records with f=30%...\n",
      "Testing m=100000 records with f=40%...\n",
      "Testing m=100000 records with f=50%...\n",
      "Testing m=100000 records with f=60%...\n",
      "Testing m=100000 records with f=70%...\n",
      "Testing m=100000 records with f=80%...\n",
      "Testing m=100000 records with f=90%...\n",
      "Done!\n"
     ]
    }
   ],
   "source": [
    "# Test the implementation.\n",
    "\n",
    "ntrials = 5\n",
    "m = 100000\n",
    "c = 100\n",
    "Q = (0, 0, 100, 100)\n",
    "S = (-1000, -1000, 1000, 1000)\n",
    "frac = [0.1, 0.2, 0.3, 0.4, 0.5, 0.6, 0.7, 0.8, 0.9]\n",
    "outfile_name = \"variable_f.csv\"\n",
    "\n",
    "os.chdir(base_dir)\n",
    "\n",
    "outfile_p = open(outfile_name, 'w')\n",
    "\n",
    "os.chdir(exec_dir)\n",
    "\n",
    "for f in frac:\n",
    "    fp = int(f * 100)\n",
    "    print('Testing m={} records with f={}%...'.format(m, fp))\n",
    "    input_file = \"{}/frecords_m={}_f={}.bin\".format(base_dir, m, fp)\n",
    "    query = 0\n",
    "    verif = 0\n",
    "    retur = 0\n",
    "    match = 0\n",
    "    for i in range(0, ntrials):\n",
    "        p = subprocess.run([\"java\", \"TestQuery\", input_file, \n",
    "            str(c), str(Q[0]), str(Q[1]), str(Q[2]), str(Q[3])], \n",
    "            capture_output=True)\n",
    "        lines = p.stdout.decode('utf-8').splitlines()\n",
    "        #print(\"root = \" + (lines[0].split(' '))[2])\n",
    "        #print(\"reconstructed = \" + (lines[1].split(' '))[2])\n",
    "        query += int((lines[3].split(' '))[2])\n",
    "        verif += int((lines[4].split(' '))[2])\n",
    "        retur += int((lines[5].split(' '))[2])\n",
    "        match += int((lines[6].split(' '))[2])\n",
    "    query /= ntrials\n",
    "    verif /= ntrials\n",
    "    retur /= ntrials\n",
    "    match /= ntrials\n",
    "    outfile_p.write('{},{},{},{},{}\\n'.format(f, query, verif, retur, match))\n",
    "    \n",
    "outfile_p.close()\n",
    "\n",
    "print(\"Done!\")\n",
    "\n",
    "os.chdir(base_dir)"
   ]
  },
  {
   "cell_type": "code",
   "execution_count": 114,
   "metadata": {},
   "outputs": [
    {
     "data": {
      "text/html": [
       "<div>\n",
       "<style scoped>\n",
       "    .dataframe tbody tr th:only-of-type {\n",
       "        vertical-align: middle;\n",
       "    }\n",
       "\n",
       "    .dataframe tbody tr th {\n",
       "        vertical-align: top;\n",
       "    }\n",
       "\n",
       "    .dataframe thead th {\n",
       "        text-align: right;\n",
       "    }\n",
       "</style>\n",
       "<table border=\"1\" class=\"dataframe\">\n",
       "  <thead>\n",
       "    <tr style=\"text-align: right;\">\n",
       "      <th></th>\n",
       "      <th>f</th>\n",
       "      <th>avg query time</th>\n",
       "      <th>avg verif time</th>\n",
       "      <th>returned</th>\n",
       "      <th>matching</th>\n",
       "    </tr>\n",
       "  </thead>\n",
       "  <tbody>\n",
       "    <tr>\n",
       "      <th>0</th>\n",
       "      <td>0.1</td>\n",
       "      <td>3.600</td>\n",
       "      <td>15.486</td>\n",
       "      <td>20000.0</td>\n",
       "      <td>10000.0</td>\n",
       "    </tr>\n",
       "    <tr>\n",
       "      <th>1</th>\n",
       "      <td>0.2</td>\n",
       "      <td>4.880</td>\n",
       "      <td>34.524</td>\n",
       "      <td>40000.0</td>\n",
       "      <td>20000.0</td>\n",
       "    </tr>\n",
       "    <tr>\n",
       "      <th>2</th>\n",
       "      <td>0.3</td>\n",
       "      <td>4.694</td>\n",
       "      <td>30.124</td>\n",
       "      <td>40000.0</td>\n",
       "      <td>30000.0</td>\n",
       "    </tr>\n",
       "    <tr>\n",
       "      <th>3</th>\n",
       "      <td>0.4</td>\n",
       "      <td>5.138</td>\n",
       "      <td>40.156</td>\n",
       "      <td>50000.0</td>\n",
       "      <td>40000.0</td>\n",
       "    </tr>\n",
       "    <tr>\n",
       "      <th>4</th>\n",
       "      <td>0.5</td>\n",
       "      <td>5.898</td>\n",
       "      <td>48.759</td>\n",
       "      <td>60000.0</td>\n",
       "      <td>50000.0</td>\n",
       "    </tr>\n",
       "    <tr>\n",
       "      <th>5</th>\n",
       "      <td>0.6</td>\n",
       "      <td>6.748</td>\n",
       "      <td>64.602</td>\n",
       "      <td>70000.0</td>\n",
       "      <td>60000.0</td>\n",
       "    </tr>\n",
       "    <tr>\n",
       "      <th>6</th>\n",
       "      <td>0.7</td>\n",
       "      <td>7.167</td>\n",
       "      <td>67.411</td>\n",
       "      <td>80000.0</td>\n",
       "      <td>70000.0</td>\n",
       "    </tr>\n",
       "    <tr>\n",
       "      <th>7</th>\n",
       "      <td>0.8</td>\n",
       "      <td>6.631</td>\n",
       "      <td>68.127</td>\n",
       "      <td>90000.0</td>\n",
       "      <td>80000.0</td>\n",
       "    </tr>\n",
       "    <tr>\n",
       "      <th>8</th>\n",
       "      <td>0.9</td>\n",
       "      <td>7.387</td>\n",
       "      <td>68.912</td>\n",
       "      <td>100000.0</td>\n",
       "      <td>90000.0</td>\n",
       "    </tr>\n",
       "  </tbody>\n",
       "</table>\n",
       "</div>"
      ],
      "text/plain": [
       "     f  avg query time  avg verif time  returned  matching\n",
       "0  0.1           3.600          15.486   20000.0   10000.0\n",
       "1  0.2           4.880          34.524   40000.0   20000.0\n",
       "2  0.3           4.694          30.124   40000.0   30000.0\n",
       "3  0.4           5.138          40.156   50000.0   40000.0\n",
       "4  0.5           5.898          48.759   60000.0   50000.0\n",
       "5  0.6           6.748          64.602   70000.0   60000.0\n",
       "6  0.7           7.167          67.411   80000.0   70000.0\n",
       "7  0.8           6.631          68.127   90000.0   80000.0\n",
       "8  0.9           7.387          68.912  100000.0   90000.0"
      ]
     },
     "execution_count": 114,
     "metadata": {},
     "output_type": "execute_result"
    }
   ],
   "source": [
    "pd.set_option(\"display.precision\", 3)\n",
    "df1 = pd.read_csv('variable_f.csv', header=None)\n",
    "df1.columns = ['f', 'avg query time', 'avg verif time', 'returned', 'matching']\n",
    "df1.sort_values(ascending=True, by='f', inplace=True)\n",
    "df1['avg query time'] /= 1000000\n",
    "df1['avg verif time'] /= 1000000\n",
    "df1"
   ]
  },
  {
   "cell_type": "code",
   "execution_count": 115,
   "metadata": {},
   "outputs": [
    {
     "name": "stdout",
     "output_type": "stream",
     "text": [
      "\\begin{tabular}{rrrrr}\n",
      "\\toprule\n",
      "   f &  avg query time &  avg verif time &  returned &  matching \\\\\n",
      "\\midrule\n",
      " 0.1 &           3.600 &          15.486 &   20000.0 &   10000.0 \\\\\n",
      " 0.2 &           4.880 &          34.524 &   40000.0 &   20000.0 \\\\\n",
      " 0.3 &           4.694 &          30.124 &   40000.0 &   30000.0 \\\\\n",
      " 0.4 &           5.138 &          40.156 &   50000.0 &   40000.0 \\\\\n",
      " 0.5 &           5.898 &          48.759 &   60000.0 &   50000.0 \\\\\n",
      " 0.6 &           6.748 &          64.602 &   70000.0 &   60000.0 \\\\\n",
      " 0.7 &           7.167 &          67.411 &   80000.0 &   70000.0 \\\\\n",
      " 0.8 &           6.631 &          68.127 &   90000.0 &   80000.0 \\\\\n",
      " 0.9 &           7.387 &          68.912 &  100000.0 &   90000.0 \\\\\n",
      "\\bottomrule\n",
      "\\end{tabular}\n",
      "\n"
     ]
    }
   ],
   "source": [
    "print(df1.to_latex(index=False, escape=False))"
   ]
  },
  {
   "cell_type": "code",
   "execution_count": 119,
   "metadata": {},
   "outputs": [
    {
     "data": {
      "image/png": "[encoded data removed]",
      "text/plain": [
       "<Figure size 576x360 with 1 Axes>"
      ]
     },
     "metadata": {
      "needs_background": "light"
     },
     "output_type": "display_data"
    }
   ],
   "source": [
    "plt.figure(figsize=(8, 5))\n",
    "plt.title(\"MR-tree index query and verification time (m = 100000, c = 100)\")\n",
    "#plt.plot(res['n'], res['mat_time'], color='gray', label='Matlab')\n",
    "plt.plot(df1['f'], df1['avg query time'], marker='o', color='black', label=\"Avg. query time\")\n",
    "plt.plot(df1['f'], df1['avg verif time'], marker='o', color='grey', label=\"Avg. verif. time\")\n",
    "plt.ylabel(\"Time [ms]\")\n",
    "plt.xlabel(\"Fraction of matching records (f)\")\n",
    "#plt.plot([x for x in range(100, 100000)], [x*np.log(x) for x in range(100, 100000)], color='black', linestyle='--')\n",
    "plt.legend()\n",
    "plt.savefig(\"test_query_fraction.png\", dpi=170, format='png', bbox_inches='tight')"
   ]
  },
  {
   "cell_type": "markdown",
   "metadata": {},
   "source": [
    "---\n",
    "\n",
    "For the next experiment..."
   ]
  },
  {
   "cell_type": "code",
   "execution_count": 43,
   "metadata": {},
   "outputs": [],
   "source": [
    "base_dir = '/Users/matteo/Documents/GitHub/SpatialAQP/test/index_query'\n",
    "exec_dir = \"../..\""
   ]
  },
  {
   "cell_type": "code",
   "execution_count": 39,
   "metadata": {},
   "outputs": [
    {
     "name": "stdout",
     "output_type": "stream",
     "text": [
      "Generating m=50000 records...\n",
      "Generating m=100000 records...\n",
      "Generating m=150000 records...\n",
      "Generating m=200000 records...\n",
      "Generating m=250000 records...\n",
      "Generating m=300000 records...\n",
      "Generating m=350000 records...\n",
      "Generating m=400000 records...\n",
      "Generating m=450000 records...\n",
      "Generating m=500000 records...\n",
      "Done!\n"
     ]
    }
   ],
   "source": [
    "# We generate 10 different data sets with 40% matching records. \n",
    "Q = (0, 0, 100, 100)\n",
    "S = (-1000, -1000, 1000, 1000)\n",
    "f = 0.4\n",
    "sizes = [50000, 100000, 150000, 200000, 250000, 300000, 350000, 400000, 450000, 500000]\n",
    "\n",
    "os.chdir(base_dir)\n",
    "\n",
    "for m in sizes:\n",
    "    print(\"Generating m={} records...\".format(m))\n",
    "    rec = generate_fraction(m, S, Q, f)\n",
    "    filename = 'records_m={}_f=40.bin'.format(m)\n",
    "    write_records(filename, rec)\n",
    "\n",
    "print('Done!')"
   ]
  },
  {
   "cell_type": "code",
   "execution_count": 65,
   "metadata": {},
   "outputs": [
    {
     "name": "stdout",
     "output_type": "stream",
     "text": [
      "Testing m=50000 records with f=40%...\n",
      "Testing m=100000 records with f=40%...\n",
      "Testing m=150000 records with f=40%...\n",
      "Testing m=200000 records with f=40%...\n",
      "Testing m=250000 records with f=40%...\n",
      "Testing m=300000 records with f=40%...\n",
      "Testing m=350000 records with f=40%...\n",
      "Testing m=400000 records with f=40%...\n",
      "Testing m=450000 records with f=40%...\n",
      "Testing m=500000 records with f=40%...\n",
      "Done!\n"
     ]
    }
   ],
   "source": [
    "# Test the implementation.\n",
    "ntrials = 5\n",
    "outf_name = 'variable_m.csv'\n",
    "c = 100\n",
    "Q = (0, 0, 100, 100)\n",
    "S = (-1000, -1000, 1000, 1000)\n",
    "sizes = [50000, 100000, 150000, 200000, 250000, 300000, 350000, 400000, 450000, 500000]\n",
    "\n",
    "os.chdir(base_dir)\n",
    "\n",
    "outfp = open(outf_name, 'w')\n",
    "\n",
    "os.chdir(exec_dir)\n",
    "\n",
    "for m in sizes:\n",
    "    print('Testing m={} records with f=40%...'.format(m, fp))\n",
    "    input_file = \"{}/records_m={}_f=40.bin\".format(base_dir, m)\n",
    "    query = 0\n",
    "    verif = 0\n",
    "    retur = 0\n",
    "    match = 0\n",
    "    for i in range(0, ntrials):\n",
    "        p = subprocess.run([\"java\", \"TestQuery\", input_file, \n",
    "            str(c), str(Q[0]), str(Q[1]), str(Q[2]), str(Q[3])], \n",
    "            capture_output=True)\n",
    "        lines = p.stdout.decode('utf-8').splitlines()\n",
    "        query += int((lines[3].split(' '))[2])\n",
    "        verif += int((lines[4].split(' '))[2])\n",
    "        retur += int((lines[5].split(' '))[2])\n",
    "        match += int((lines[6].split(' '))[2])\n",
    "    query /= ntrials\n",
    "    verif /= ntrials\n",
    "    retur /= ntrials\n",
    "    match /= ntrials\n",
    "    outfp.write('{},{},{},{},{}\\n'.format(m, query, verif, retur, match))\n",
    "    \n",
    "outfp.close()\n",
    "\n",
    "print(\"Done!\")\n",
    "\n",
    "os.chdir(base_dir)"
   ]
  },
  {
   "cell_type": "code",
   "execution_count": 66,
   "metadata": {},
   "outputs": [
    {
     "data": {
      "text/html": [
       "<div>\n",
       "<style scoped>\n",
       "    .dataframe tbody tr th:only-of-type {\n",
       "        vertical-align: middle;\n",
       "    }\n",
       "\n",
       "    .dataframe tbody tr th {\n",
       "        vertical-align: top;\n",
       "    }\n",
       "\n",
       "    .dataframe thead th {\n",
       "        text-align: right;\n",
       "    }\n",
       "</style>\n",
       "<table border=\"1\" class=\"dataframe\">\n",
       "  <thead>\n",
       "    <tr style=\"text-align: right;\">\n",
       "      <th></th>\n",
       "      <th>m</th>\n",
       "      <th>avg query time</th>\n",
       "      <th>avg verif time</th>\n",
       "      <th>returned</th>\n",
       "      <th>matching</th>\n",
       "    </tr>\n",
       "  </thead>\n",
       "  <tbody>\n",
       "    <tr>\n",
       "      <th>0</th>\n",
       "      <td>50000</td>\n",
       "      <td>3.719</td>\n",
       "      <td>16.016</td>\n",
       "      <td>30000.0</td>\n",
       "      <td>20000.0</td>\n",
       "    </tr>\n",
       "    <tr>\n",
       "      <th>1</th>\n",
       "      <td>100000</td>\n",
       "      <td>4.840</td>\n",
       "      <td>35.019</td>\n",
       "      <td>50000.0</td>\n",
       "      <td>40000.0</td>\n",
       "    </tr>\n",
       "    <tr>\n",
       "      <th>2</th>\n",
       "      <td>150000</td>\n",
       "      <td>5.793</td>\n",
       "      <td>58.733</td>\n",
       "      <td>70000.0</td>\n",
       "      <td>60000.0</td>\n",
       "    </tr>\n",
       "    <tr>\n",
       "      <th>3</th>\n",
       "      <td>200000</td>\n",
       "      <td>5.333</td>\n",
       "      <td>53.691</td>\n",
       "      <td>100000.0</td>\n",
       "      <td>80000.0</td>\n",
       "    </tr>\n",
       "    <tr>\n",
       "      <th>4</th>\n",
       "      <td>250000</td>\n",
       "      <td>5.727</td>\n",
       "      <td>73.152</td>\n",
       "      <td>120000.0</td>\n",
       "      <td>100000.0</td>\n",
       "    </tr>\n",
       "    <tr>\n",
       "      <th>5</th>\n",
       "      <td>300000</td>\n",
       "      <td>7.231</td>\n",
       "      <td>74.855</td>\n",
       "      <td>140000.0</td>\n",
       "      <td>120000.0</td>\n",
       "    </tr>\n",
       "    <tr>\n",
       "      <th>6</th>\n",
       "      <td>350000</td>\n",
       "      <td>7.289</td>\n",
       "      <td>88.221</td>\n",
       "      <td>160000.0</td>\n",
       "      <td>140000.0</td>\n",
       "    </tr>\n",
       "    <tr>\n",
       "      <th>7</th>\n",
       "      <td>400000</td>\n",
       "      <td>8.878</td>\n",
       "      <td>96.069</td>\n",
       "      <td>180000.0</td>\n",
       "      <td>160000.0</td>\n",
       "    </tr>\n",
       "    <tr>\n",
       "      <th>8</th>\n",
       "      <td>450000</td>\n",
       "      <td>15.756</td>\n",
       "      <td>98.373</td>\n",
       "      <td>200000.0</td>\n",
       "      <td>180000.0</td>\n",
       "    </tr>\n",
       "    <tr>\n",
       "      <th>9</th>\n",
       "      <td>500000</td>\n",
       "      <td>9.471</td>\n",
       "      <td>98.786</td>\n",
       "      <td>220000.0</td>\n",
       "      <td>200000.0</td>\n",
       "    </tr>\n",
       "  </tbody>\n",
       "</table>\n",
       "</div>"
      ],
      "text/plain": [
       "        m  avg query time  avg verif time  returned  matching\n",
       "0   50000           3.719          16.016   30000.0   20000.0\n",
       "1  100000           4.840          35.019   50000.0   40000.0\n",
       "2  150000           5.793          58.733   70000.0   60000.0\n",
       "3  200000           5.333          53.691  100000.0   80000.0\n",
       "4  250000           5.727          73.152  120000.0  100000.0\n",
       "5  300000           7.231          74.855  140000.0  120000.0\n",
       "6  350000           7.289          88.221  160000.0  140000.0\n",
       "7  400000           8.878          96.069  180000.0  160000.0\n",
       "8  450000          15.756          98.373  200000.0  180000.0\n",
       "9  500000           9.471          98.786  220000.0  200000.0"
      ]
     },
     "execution_count": 66,
     "metadata": {},
     "output_type": "execute_result"
    }
   ],
   "source": [
    "pd.set_option(\"display.precision\", 3)\n",
    "df = pd.read_csv('variable_m.csv', header=None)\n",
    "df.columns = ['m', 'avg query time', 'avg verif time', 'returned', 'matching']\n",
    "df.sort_values(ascending=True, by='m', inplace=True)\n",
    "df['avg query time'] /= 1000000\n",
    "df['avg verif time'] /= 1000000\n",
    "df"
   ]
  },
  {
   "cell_type": "code",
   "execution_count": 67,
   "metadata": {},
   "outputs": [
    {
     "name": "stdout",
     "output_type": "stream",
     "text": [
      "\\begin{tabular}{rrrrr}\n",
      "\\toprule\n",
      "      m &  avg query time &  avg verif time &  returned &  matching \\\\\n",
      "\\midrule\n",
      "  50000 &           3.719 &          16.016 &   30000.0 &   20000.0 \\\\\n",
      " 100000 &           4.840 &          35.019 &   50000.0 &   40000.0 \\\\\n",
      " 150000 &           5.793 &          58.733 &   70000.0 &   60000.0 \\\\\n",
      " 200000 &           5.333 &          53.691 &  100000.0 &   80000.0 \\\\\n",
      " 250000 &           5.727 &          73.152 &  120000.0 &  100000.0 \\\\\n",
      " 300000 &           7.231 &          74.855 &  140000.0 &  120000.0 \\\\\n",
      " 350000 &           7.289 &          88.221 &  160000.0 &  140000.0 \\\\\n",
      " 400000 &           8.878 &          96.069 &  180000.0 &  160000.0 \\\\\n",
      " 450000 &          15.756 &          98.373 &  200000.0 &  180000.0 \\\\\n",
      " 500000 &           9.471 &          98.786 &  220000.0 &  200000.0 \\\\\n",
      "\\bottomrule\n",
      "\\end{tabular}\n",
      "\n"
     ]
    }
   ],
   "source": [
    "print(df.to_latex(index=False, escape=False))"
   ]
  },
  {
   "cell_type": "markdown",
   "metadata": {},
   "source": [
    "---"
   ]
  },
  {
   "cell_type": "code",
   "execution_count": 69,
   "metadata": {},
   "outputs": [
    {
     "name": "stdout",
     "output_type": "stream",
     "text": [
      "Generating m=300000 records...\n",
      "Done!\n"
     ]
    }
   ],
   "source": [
    "Q = (0, 0, 100, 100)\n",
    "S = (-1000, -1000, 1000, 1000)\n",
    "f = 0.3\n",
    "m = 300000\n",
    "\n",
    "os.chdir(base_dir)\n",
    "\n",
    "print(\"Generating m={} records...\".format(m))\n",
    "rec = generate_fraction(m, S, Q, f)\n",
    "filename = 'records_m={}_f={}.bin'.format(m, int(f*100))\n",
    "write_records(filename, rec)\n",
    "\n",
    "print('Done!')"
   ]
  },
  {
   "cell_type": "code",
   "execution_count": 70,
   "metadata": {},
   "outputs": [
    {
     "name": "stdout",
     "output_type": "stream",
     "text": [
      "Testing capacity c=10...\n",
      "Testing capacity c=25...\n",
      "Testing capacity c=50...\n",
      "Testing capacity c=75...\n",
      "Testing capacity c=100...\n",
      "Testing capacity c=250...\n",
      "Testing capacity c=500...\n",
      "Testing capacity c=750...\n",
      "Testing capacity c=1000...\n",
      "Testing capacity c=2500...\n",
      "Testing capacity c=7500...\n",
      "Testing capacity c=10000...\n",
      "Done!\n"
     ]
    }
   ],
   "source": [
    "#\n",
    "# \n",
    "#\n",
    "\n",
    "ntrials = 5\n",
    "outf2_name = 'variable_c.csv'\n",
    "capacities = [10, 25, 50, 75, 100, 250, 500, 750, 1000, 2500, 7500, 10000]\n",
    "Q = (0, 0, 100, 100)\n",
    "S = (-1000, -1000, 1000, 1000)\n",
    "input_file = \"{}/records_m=300000_f=30.bin\".format(base_dir)\n",
    "\n",
    "os.chdir(base_dir)\n",
    "\n",
    "outfp2 = open(outf2_name, 'w')\n",
    "\n",
    "os.chdir(exec_dir)\n",
    "\n",
    "for c in capacities:\n",
    "    print('Testing capacity c={}...'.format(c))\n",
    "    query = 0\n",
    "    verif = 0\n",
    "    retur = 0\n",
    "    match = 0\n",
    "    for i in range(0, ntrials):\n",
    "        p = subprocess.run([\"java\", \"TestQuery\", input_file, \n",
    "            str(c), str(Q[0]), str(Q[1]), str(Q[2]), str(Q[3])], \n",
    "            capture_output=True)\n",
    "        lines = p.stdout.decode('utf-8').splitlines()\n",
    "        query += int((lines[3].split(' '))[2])\n",
    "        verif += int((lines[4].split(' '))[2])\n",
    "        retur += int((lines[5].split(' '))[2])\n",
    "        match += int((lines[6].split(' '))[2])\n",
    "    query /= ntrials\n",
    "    verif /= ntrials\n",
    "    retur /= ntrials\n",
    "    match /= ntrials\n",
    "    outfp2.write('{},{},{},{},{}\\n'.format(c, query, verif, retur, match))\n",
    "    \n",
    "outfp2.close()\n",
    "\n",
    "print(\"Done!\")\n",
    "\n",
    "os.chdir(base_dir)"
   ]
  },
  {
   "cell_type": "code",
   "execution_count": 71,
   "metadata": {},
   "outputs": [
    {
     "data": {
      "text/html": [
       "<div>\n",
       "<style scoped>\n",
       "    .dataframe tbody tr th:only-of-type {\n",
       "        vertical-align: middle;\n",
       "    }\n",
       "\n",
       "    .dataframe tbody tr th {\n",
       "        vertical-align: top;\n",
       "    }\n",
       "\n",
       "    .dataframe thead th {\n",
       "        text-align: right;\n",
       "    }\n",
       "</style>\n",
       "<table border=\"1\" class=\"dataframe\">\n",
       "  <thead>\n",
       "    <tr style=\"text-align: right;\">\n",
       "      <th></th>\n",
       "      <th>c</th>\n",
       "      <th>avg query time</th>\n",
       "      <th>avg verif time</th>\n",
       "      <th>returned</th>\n",
       "      <th>matching</th>\n",
       "    </tr>\n",
       "  </thead>\n",
       "  <tbody>\n",
       "    <tr>\n",
       "      <th>0</th>\n",
       "      <td>10</td>\n",
       "      <td>17.897</td>\n",
       "      <td>133.381</td>\n",
       "      <td>100100.0</td>\n",
       "      <td>90000.0</td>\n",
       "    </tr>\n",
       "    <tr>\n",
       "      <th>1</th>\n",
       "      <td>25</td>\n",
       "      <td>11.676</td>\n",
       "      <td>75.945</td>\n",
       "      <td>100625.0</td>\n",
       "      <td>90000.0</td>\n",
       "    </tr>\n",
       "    <tr>\n",
       "      <th>2</th>\n",
       "      <td>50</td>\n",
       "      <td>9.392</td>\n",
       "      <td>72.760</td>\n",
       "      <td>102500.0</td>\n",
       "      <td>90000.0</td>\n",
       "    </tr>\n",
       "    <tr>\n",
       "      <th>3</th>\n",
       "      <td>75</td>\n",
       "      <td>9.113</td>\n",
       "      <td>73.360</td>\n",
       "      <td>106875.0</td>\n",
       "      <td>90000.0</td>\n",
       "    </tr>\n",
       "    <tr>\n",
       "      <th>4</th>\n",
       "      <td>100</td>\n",
       "      <td>6.791</td>\n",
       "      <td>66.795</td>\n",
       "      <td>110000.0</td>\n",
       "      <td>90000.0</td>\n",
       "    </tr>\n",
       "    <tr>\n",
       "      <th>5</th>\n",
       "      <td>250</td>\n",
       "      <td>5.328</td>\n",
       "      <td>85.358</td>\n",
       "      <td>187500.0</td>\n",
       "      <td>90000.0</td>\n",
       "    </tr>\n",
       "    <tr>\n",
       "      <th>6</th>\n",
       "      <td>500</td>\n",
       "      <td>4.297</td>\n",
       "      <td>100.476</td>\n",
       "      <td>250000.0</td>\n",
       "      <td>90000.0</td>\n",
       "    </tr>\n",
       "    <tr>\n",
       "      <th>7</th>\n",
       "      <td>750</td>\n",
       "      <td>3.997</td>\n",
       "      <td>112.201</td>\n",
       "      <td>300000.0</td>\n",
       "      <td>90000.0</td>\n",
       "    </tr>\n",
       "    <tr>\n",
       "      <th>8</th>\n",
       "      <td>1000</td>\n",
       "      <td>3.864</td>\n",
       "      <td>101.093</td>\n",
       "      <td>300000.0</td>\n",
       "      <td>90000.0</td>\n",
       "    </tr>\n",
       "    <tr>\n",
       "      <th>9</th>\n",
       "      <td>2500</td>\n",
       "      <td>2.583</td>\n",
       "      <td>94.965</td>\n",
       "      <td>300000.0</td>\n",
       "      <td>90000.0</td>\n",
       "    </tr>\n",
       "    <tr>\n",
       "      <th>10</th>\n",
       "      <td>7500</td>\n",
       "      <td>2.292</td>\n",
       "      <td>87.771</td>\n",
       "      <td>300000.0</td>\n",
       "      <td>90000.0</td>\n",
       "    </tr>\n",
       "    <tr>\n",
       "      <th>11</th>\n",
       "      <td>10000</td>\n",
       "      <td>2.347</td>\n",
       "      <td>90.274</td>\n",
       "      <td>300000.0</td>\n",
       "      <td>90000.0</td>\n",
       "    </tr>\n",
       "  </tbody>\n",
       "</table>\n",
       "</div>"
      ],
      "text/plain": [
       "        c  avg query time  avg verif time  returned  matching\n",
       "0      10          17.897         133.381  100100.0   90000.0\n",
       "1      25          11.676          75.945  100625.0   90000.0\n",
       "2      50           9.392          72.760  102500.0   90000.0\n",
       "3      75           9.113          73.360  106875.0   90000.0\n",
       "4     100           6.791          66.795  110000.0   90000.0\n",
       "5     250           5.328          85.358  187500.0   90000.0\n",
       "6     500           4.297         100.476  250000.0   90000.0\n",
       "7     750           3.997         112.201  300000.0   90000.0\n",
       "8    1000           3.864         101.093  300000.0   90000.0\n",
       "9    2500           2.583          94.965  300000.0   90000.0\n",
       "10   7500           2.292          87.771  300000.0   90000.0\n",
       "11  10000           2.347          90.274  300000.0   90000.0"
      ]
     },
     "execution_count": 71,
     "metadata": {},
     "output_type": "execute_result"
    }
   ],
   "source": [
    "pd.set_option(\"display.precision\", 3)\n",
    "df = pd.read_csv('variable_c.csv', header=None)\n",
    "df.columns = ['c', 'avg query time', 'avg verif time', 'returned', 'matching']\n",
    "df.sort_values(ascending=True, by='c', inplace=True)\n",
    "df['avg query time'] /= 1000000\n",
    "df['avg verif time'] /= 1000000\n",
    "df"
   ]
  },
  {
   "cell_type": "code",
   "execution_count": 72,
   "metadata": {
    "scrolled": true
   },
   "outputs": [
    {
     "name": "stdout",
     "output_type": "stream",
     "text": [
      "\\begin{tabular}{rrrrr}\n",
      "\\toprule\n",
      "     c &  avg query time &  avg verif time &  returned &  matching \\\\\n",
      "\\midrule\n",
      "    10 &          17.897 &         133.381 &  100100.0 &   90000.0 \\\\\n",
      "    25 &          11.676 &          75.945 &  100625.0 &   90000.0 \\\\\n",
      "    50 &           9.392 &          72.760 &  102500.0 &   90000.0 \\\\\n",
      "    75 &           9.113 &          73.360 &  106875.0 &   90000.0 \\\\\n",
      "   100 &           6.791 &          66.795 &  110000.0 &   90000.0 \\\\\n",
      "   250 &           5.328 &          85.358 &  187500.0 &   90000.0 \\\\\n",
      "   500 &           4.297 &         100.476 &  250000.0 &   90000.0 \\\\\n",
      "   750 &           3.997 &         112.201 &  300000.0 &   90000.0 \\\\\n",
      "  1000 &           3.864 &         101.093 &  300000.0 &   90000.0 \\\\\n",
      "  2500 &           2.583 &          94.965 &  300000.0 &   90000.0 \\\\\n",
      "  7500 &           2.292 &          87.771 &  300000.0 &   90000.0 \\\\\n",
      " 10000 &           2.347 &          90.274 &  300000.0 &   90000.0 \\\\\n",
      "\\bottomrule\n",
      "\\end{tabular}\n",
      "\n"
     ]
    }
   ],
   "source": [
    "print(df.to_latex(index=False, escape=False))"
   ]
  },
  {
   "cell_type": "code",
   "execution_count": 101,
   "metadata": {},
   "outputs": [
    {
     "data": {
      "image/png": "[encoded data removed]",
      "text/plain": [
       "<Figure size 576x360 with 1 Axes>"
      ]
     },
     "metadata": {
      "needs_background": "light"
     },
     "output_type": "display_data"
    }
   ],
   "source": [
    "plt.figure(figsize=(8, 5))\n",
    "plt.title(\"MR-tree index query and verification time (m = 300000, f = 30%)\")\n",
    "plt.xticks(df['c'])\n",
    "plt.xscale('log')\n",
    "plt.plot(df['c'], df['avg query time'], marker='o', color='black', label='Avg. query time')\n",
    "plt.plot(df['c'], df['avg verif time'], marker='o', color='grey', label='Avg. verif. time')\n",
    "plt.axvline(100, 0, 1, color='gray', linestyle='--')\n",
    "plt.ylabel(\"Time [ms]\")\n",
    "plt.xlabel(\"Page capacity (c)\")\n",
    "plt.legend()\n",
    "plt.savefig(\"test_query_capacity.png\", dpi=170, format='png', bbox_inches='tight')"
   ]
  }
 ],
 "metadata": {
  "kernelspec": {
   "display_name": "Python 3",
   "language": "python",
   "name": "python3"
  },
  "language_info": {
   "codemirror_mode": {
    "name": "ipython",
    "version": 3
   },
   "file_extension": ".py",
   "mimetype": "text/x-python",
   "name": "python",
   "nbconvert_exporter": "python",
   "pygments_lexer": "ipython3",
   "version": "3.8.3"
  }
 },
 "nbformat": 4,
 "nbformat_minor": 2
}
