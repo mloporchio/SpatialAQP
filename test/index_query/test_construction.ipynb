{
 "cells": [
  {
   "cell_type": "code",
   "execution_count": 78,
   "metadata": {},
   "outputs": [],
   "source": [
    "import pandas as pd\n",
    "import numpy as np\n",
    "import matplotlib.pyplot as plt\n",
    "import os\n",
    "import random\n",
    "import struct\n",
    "import subprocess\n",
    "import sys"
   ]
  },
  {
   "cell_type": "code",
   "execution_count": 89,
   "metadata": {},
   "outputs": [],
   "source": [
    "main_dir = \"/Users/matteo/Documents/GitHub/SpatialAQP\"\n",
    "test_dir = \"test/index_query\""
   ]
  },
  {
   "cell_type": "code",
   "execution_count": 90,
   "metadata": {},
   "outputs": [],
   "source": [
    "def generate_records(nrec, minval, maxval):\n",
    "    rec = []\n",
    "    for i in range(0, nrec):\n",
    "        x = random.uniform(minval, maxval)\n",
    "        y = random.uniform(minval, maxval)\n",
    "        rec.append((x,y))\n",
    "    return rec"
   ]
  },
  {
   "cell_type": "code",
   "execution_count": 91,
   "metadata": {},
   "outputs": [],
   "source": [
    "def write_records(filename, rec):\n",
    "    f = open(filename, 'wb')\n",
    "    for r in rec:\n",
    "        f.write(struct.pack('>dd', r[0], r[1]))\n",
    "    f.close()"
   ]
  },
  {
   "cell_type": "code",
   "execution_count": 92,
   "metadata": {},
   "outputs": [],
   "source": [
    "def generate_fraction(nrec, S, Q, f):\n",
    "    rec = []\n",
    "    # compute the fraction of matching records\n",
    "    qrec = int(round(f * nrec))\n",
    "    # generate the matching records\n",
    "    for i in range(0, qrec):\n",
    "        x = random.uniform(Q[0], Q[2])\n",
    "        y = random.uniform(Q[1], Q[3])\n",
    "        rec.append((x,y))\n",
    "    # now generate the non matching records\n",
    "    i = 0\n",
    "    while (i < nrec - qrec):\n",
    "        x = random.uniform(S[0], S[2])\n",
    "        y = random.uniform(S[1], S[3])\n",
    "        # try to change the middle or to and\n",
    "        if ((not (Q[0] <= x and x <= Q[2])) or (not (Q[1] <= y and y <= Q[3]))):\n",
    "            rec.append((x,y))\n",
    "            i += 1\n",
    "    random.shuffle(rec)\n",
    "    return rec"
   ]
  },
  {
   "cell_type": "code",
   "execution_count": 93,
   "metadata": {},
   "outputs": [],
   "source": [
    "def compute_fraction(rec, Q):\n",
    "    count = 0\n",
    "    for r in rec:\n",
    "        x = r[0]\n",
    "        y = r[1]\n",
    "        if (Q[0] <= x and x <= Q[2] and Q[1] <= y and y <= Q[3]):\n",
    "            count += 1\n",
    "    return (count / len(rec))"
   ]
  },
  {
   "cell_type": "code",
   "execution_count": null,
   "metadata": {},
   "outputs": [],
   "source": []
  },
  {
   "cell_type": "code",
   "execution_count": 101,
   "metadata": {},
   "outputs": [
    {
     "name": "stdout",
     "output_type": "stream",
     "text": [
      "Generating m=100000 records with f=10%...\n",
      "Generating m=100000 records with f=20%...\n",
      "Generating m=100000 records with f=30%...\n",
      "Generating m=100000 records with f=40%...\n",
      "Generating m=100000 records with f=50%...\n",
      "Generating m=100000 records with f=60%...\n",
      "Generating m=100000 records with f=70%...\n",
      "Generating m=100000 records with f=80%...\n",
      "Generating m=100000 records with f=90%...\n"
     ]
    }
   ],
   "source": [
    "# Generate the test cases.\n",
    "m = 100000\n",
    "Q = (0, 0, 100, 100)\n",
    "S = (-1000, -1000, 1000, 1000)\n",
    "frac = [0.1, 0.2, 0.3, 0.4, 0.5, 0.6, 0.7, 0.8, 0.9]\n",
    "\n",
    "os.chdir('{}/{}'.format(main_dir, test_dir))\n",
    "\n",
    "for f in frac:\n",
    "    fp = int(f * 100)\n",
    "    print('Generating m={} records with f={}%...'.format(m, fp))\n",
    "    filename = 'records_{}_{}.bin'.format(m, fp)\n",
    "    rec = generate_fraction(m, S, Q, f)\n",
    "    write_records(filename, rec)"
   ]
  },
  {
   "cell_type": "code",
   "execution_count": null,
   "metadata": {},
   "outputs": [],
   "source": []
  },
  {
   "cell_type": "code",
   "execution_count": 104,
   "metadata": {},
   "outputs": [
    {
     "name": "stdout",
     "output_type": "stream",
     "text": [
      "Testing m=100000 records with f=10%...\n",
      "Matching records: 20000\n",
      "Matching records: 20000\n",
      "Matching records: 20000\n",
      "Matching records: 20000\n",
      "Matching records: 20000\n",
      "Testing m=100000 records with f=20%...\n",
      "Matching records: 30000\n",
      "Matching records: 30000\n",
      "Matching records: 30000\n",
      "Matching records: 30000\n",
      "Matching records: 30000\n",
      "Testing m=100000 records with f=30%...\n",
      "Matching records: 40000\n",
      "Matching records: 40000\n",
      "Matching records: 40000\n",
      "Matching records: 40000\n",
      "Matching records: 40000\n",
      "Testing m=100000 records with f=40%...\n",
      "Matching records: 50000\n",
      "Matching records: 50000\n",
      "Matching records: 50000\n",
      "Matching records: 50000\n",
      "Matching records: 50000\n",
      "Testing m=100000 records with f=50%...\n",
      "Matching records: 60000\n",
      "Matching records: 60000\n",
      "Matching records: 60000\n",
      "Matching records: 60000\n",
      "Matching records: 60000\n",
      "Testing m=100000 records with f=60%...\n",
      "Matching records: 70000\n",
      "Matching records: 70000\n",
      "Matching records: 70000\n",
      "Matching records: 70000\n",
      "Matching records: 70000\n",
      "Testing m=100000 records with f=70%...\n",
      "Matching records: 80000\n",
      "Matching records: 80000\n",
      "Matching records: 80000\n",
      "Matching records: 80000\n",
      "Matching records: 80000\n",
      "Testing m=100000 records with f=80%...\n",
      "Matching records: 100000\n",
      "Matching records: 100000\n",
      "Matching records: 100000\n",
      "Matching records: 100000\n",
      "Matching records: 100000\n",
      "Testing m=100000 records with f=90%...\n",
      "Matching records: 100000\n",
      "Matching records: 100000\n",
      "Matching records: 100000\n",
      "Matching records: 100000\n",
      "Matching records: 100000\n"
     ]
    }
   ],
   "source": [
    "# Test the implementation.\n",
    "\n",
    "ntrials = 5\n",
    "m = 100000\n",
    "c = 100\n",
    "Q = (0, 0, 100, 100)\n",
    "S = (-1000, -1000, 1000, 1000)\n",
    "frac = [0.1, 0.2, 0.3, 0.4, 0.5, 0.6, 0.7, 0.8, 0.9]\n",
    "\n",
    "os.chdir(main_dir)\n",
    "\n",
    "for f in frac:\n",
    "    fp = int(f * 100)\n",
    "    print('Testing m={} records with f={}%...'.format(m, fp))\n",
    "    input_file = \"{}/records_{}_{}.bin\".format(out_dir, m, fp)\n",
    "    for i in range(0, ntrials):\n",
    "        p = subprocess.run([\"java\", \"TestQuery\", input_file, \n",
    "            str(c), str(Q[0]), str(Q[1]), str(Q[2]), str(Q[3])], \n",
    "            capture_output=True)\n",
    "        lines = p.stdout.decode('utf-8').splitlines()\n",
    "        print(lines[5])"
   ]
  },
  {
   "cell_type": "code",
   "execution_count": null,
   "metadata": {},
   "outputs": [],
   "source": []
  },
  {
   "cell_type": "code",
   "execution_count": null,
   "metadata": {},
   "outputs": [],
   "source": []
  },
  {
   "cell_type": "code",
   "execution_count": 43,
   "metadata": {},
   "outputs": [
    {
     "data": {
      "image/png": "[encoded data removed]",
      "text/plain": [
       "<Figure size 576x360 with 1 Axes>"
      ]
     },
     "metadata": {
      "needs_background": "light"
     },
     "output_type": "display_data"
    }
   ],
   "source": [
    "plt.figure(figsize=(8, 5))\n",
    "plt.title(\"MR-tree index construction time (c = 10)\")\n",
    "#plt.plot(res['n'], res['mat_time'], color='gray', label='Matlab')\n",
    "plt.plot(df1['n'], df1['time'], color='black')\n",
    "plt.ylabel(\"Time (ms)\")\n",
    "plt.xlabel(\"m\")\n",
    "#plt.plot([x for x in range(100, 100000)], [x*np.log(x) for x in range(100, 100000)], color='black', linestyle='--')\n",
    "#plt.legend()\n",
    "plt.savefig(\"test_construction.png\", dpi=170, format='png', bbox_inches='tight')"
   ]
  },
  {
   "cell_type": "code",
   "execution_count": 41,
   "metadata": {},
   "outputs": [],
   "source": [
    "#res.to_csv('test_n_full.csv', header=True, index=False)"
   ]
  },
  {
   "cell_type": "code",
   "execution_count": null,
   "metadata": {},
   "outputs": [],
   "source": []
  },
  {
   "cell_type": "code",
   "execution_count": null,
   "metadata": {},
   "outputs": [],
   "source": []
  }
 ],
 "metadata": {
  "kernelspec": {
   "display_name": "Python 3",
   "language": "python",
   "name": "python3"
  },
  "language_info": {
   "codemirror_mode": {
    "name": "ipython",
    "version": 3
   },
   "file_extension": ".py",
   "mimetype": "text/x-python",
   "name": "python",
   "nbconvert_exporter": "python",
   "pygments_lexer": "ipython3",
   "version": "3.8.3"
  }
 },
 "nbformat": 4,
 "nbformat_minor": 2
}
