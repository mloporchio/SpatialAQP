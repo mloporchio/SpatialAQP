{
 "cells": [
  {
   "cell_type": "code",
   "execution_count": 1,
   "metadata": {},
   "outputs": [],
   "source": [
    "import pandas as pd\n",
    "import numpy as np\n",
    "import matplotlib.pyplot as plt\n",
    "import os\n",
    "import struct\n",
    "import subprocess\n",
    "import sys"
   ]
  },
  {
   "cell_type": "code",
   "execution_count": 2,
   "metadata": {},
   "outputs": [],
   "source": [
    "# Sizes of the data sets.\n",
    "sizes = [100, 250, 500, 750, 1000, 2500, 5000, 7500, 10000, 25000, 50000, 75000, 100000]\n",
    "capacity = 10\n",
    "ntrials = 10\n",
    "base_dir = os.getcwd()\n",
    "exec_dir = \"../..\"\n",
    "output_file = '{}/test_construction.csv'.format(base_dir)"
   ]
  },
  {
   "cell_type": "code",
   "execution_count": 3,
   "metadata": {},
   "outputs": [
    {
     "name": "stdout",
     "output_type": "stream",
     "text": [
      "Testing m=100...\n",
      "Input file: /Users/matteo/Documents/GitHub/SpatialAQP/test/construction/records_100_0_1000.bin\n",
      "23478509.3\n",
      "Testing m=250...\n",
      "Input file: /Users/matteo/Documents/GitHub/SpatialAQP/test/construction/records_250_0_1000.bin\n",
      "27086991.9\n",
      "Testing m=500...\n",
      "Input file: /Users/matteo/Documents/GitHub/SpatialAQP/test/construction/records_500_0_1000.bin\n",
      "30193099.2\n",
      "Testing m=750...\n",
      "Input file: /Users/matteo/Documents/GitHub/SpatialAQP/test/construction/records_750_0_1000.bin\n",
      "32929710.2\n",
      "Testing m=1000...\n",
      "Input file: /Users/matteo/Documents/GitHub/SpatialAQP/test/construction/records_1000_0_1000.bin\n",
      "34504196.3\n",
      "Testing m=2500...\n",
      "Input file: /Users/matteo/Documents/GitHub/SpatialAQP/test/construction/records_2500_0_1000.bin\n",
      "50224718.2\n",
      "Testing m=5000...\n",
      "Input file: /Users/matteo/Documents/GitHub/SpatialAQP/test/construction/records_5000_0_1000.bin\n",
      "64826660.9\n",
      "Testing m=7500...\n",
      "Input file: /Users/matteo/Documents/GitHub/SpatialAQP/test/construction/records_7500_0_1000.bin\n",
      "83059309.5\n",
      "Testing m=10000...\n",
      "Input file: /Users/matteo/Documents/GitHub/SpatialAQP/test/construction/records_10000_0_1000.bin\n",
      "93522798.8\n",
      "Testing m=25000...\n",
      "Input file: /Users/matteo/Documents/GitHub/SpatialAQP/test/construction/records_25000_0_1000.bin\n",
      "147034902.4\n",
      "Testing m=50000...\n",
      "Input file: /Users/matteo/Documents/GitHub/SpatialAQP/test/construction/records_50000_0_1000.bin\n",
      "190116006.8\n",
      "Testing m=75000...\n",
      "Input file: /Users/matteo/Documents/GitHub/SpatialAQP/test/construction/records_75000_0_1000.bin\n",
      "205599944.4\n",
      "Testing m=100000...\n",
      "Input file: /Users/matteo/Documents/GitHub/SpatialAQP/test/construction/records_100000_0_1000.bin\n",
      "242223030.2\n"
     ]
    }
   ],
   "source": [
    "# Test the implementation.\n",
    "\n",
    "f = open(output_file, 'w')\n",
    "\n",
    "os.chdir(exec_dir)\n",
    "\n",
    "for m in sizes:\n",
    "    print('Testing m={}...'.format(m))\n",
    "    input_file = \"{}/records_{}_0_1000.bin\".format(base_dir, m)\n",
    "    print('Input file: ' + input_file)\n",
    "    avg = 0\n",
    "    for i in range(0, ntrials):\n",
    "        p = subprocess.run([\"java\", \"TestIndex\", input_file, str(capacity)], capture_output=True, check=True)\n",
    "        lines = p.stdout.decode('utf-8').splitlines()\n",
    "        avg += int((lines[2].split(' '))[2])\n",
    "    avg = avg / ntrials\n",
    "    print(avg)\n",
    "    f.write('{},{}\\n'.format(m, avg))\n",
    "\n",
    "f.close()\n",
    "\n",
    "os.chdir(base_dir)"
   ]
  },
  {
   "cell_type": "code",
   "execution_count": 2,
   "metadata": {},
   "outputs": [
    {
     "data": {
      "text/html": [
       "<div>\n",
       "<style scoped>\n",
       "    .dataframe tbody tr th:only-of-type {\n",
       "        vertical-align: middle;\n",
       "    }\n",
       "\n",
       "    .dataframe tbody tr th {\n",
       "        vertical-align: top;\n",
       "    }\n",
       "\n",
       "    .dataframe thead th {\n",
       "        text-align: right;\n",
       "    }\n",
       "</style>\n",
       "<table border=\"1\" class=\"dataframe\">\n",
       "  <thead>\n",
       "    <tr style=\"text-align: right;\">\n",
       "      <th></th>\n",
       "      <th>m</th>\n",
       "      <th>time</th>\n",
       "    </tr>\n",
       "  </thead>\n",
       "  <tbody>\n",
       "    <tr>\n",
       "      <th>0</th>\n",
       "      <td>100</td>\n",
       "      <td>23.479</td>\n",
       "    </tr>\n",
       "    <tr>\n",
       "      <th>1</th>\n",
       "      <td>250</td>\n",
       "      <td>27.087</td>\n",
       "    </tr>\n",
       "    <tr>\n",
       "      <th>2</th>\n",
       "      <td>500</td>\n",
       "      <td>30.193</td>\n",
       "    </tr>\n",
       "    <tr>\n",
       "      <th>3</th>\n",
       "      <td>750</td>\n",
       "      <td>32.930</td>\n",
       "    </tr>\n",
       "    <tr>\n",
       "      <th>4</th>\n",
       "      <td>1000</td>\n",
       "      <td>34.504</td>\n",
       "    </tr>\n",
       "    <tr>\n",
       "      <th>5</th>\n",
       "      <td>2500</td>\n",
       "      <td>50.225</td>\n",
       "    </tr>\n",
       "    <tr>\n",
       "      <th>6</th>\n",
       "      <td>5000</td>\n",
       "      <td>64.827</td>\n",
       "    </tr>\n",
       "    <tr>\n",
       "      <th>7</th>\n",
       "      <td>7500</td>\n",
       "      <td>83.059</td>\n",
       "    </tr>\n",
       "    <tr>\n",
       "      <th>8</th>\n",
       "      <td>10000</td>\n",
       "      <td>93.523</td>\n",
       "    </tr>\n",
       "    <tr>\n",
       "      <th>9</th>\n",
       "      <td>25000</td>\n",
       "      <td>147.035</td>\n",
       "    </tr>\n",
       "    <tr>\n",
       "      <th>10</th>\n",
       "      <td>50000</td>\n",
       "      <td>190.116</td>\n",
       "    </tr>\n",
       "    <tr>\n",
       "      <th>11</th>\n",
       "      <td>75000</td>\n",
       "      <td>205.600</td>\n",
       "    </tr>\n",
       "    <tr>\n",
       "      <th>12</th>\n",
       "      <td>100000</td>\n",
       "      <td>242.223</td>\n",
       "    </tr>\n",
       "  </tbody>\n",
       "</table>\n",
       "</div>"
      ],
      "text/plain": [
       "         m     time\n",
       "0      100   23.479\n",
       "1      250   27.087\n",
       "2      500   30.193\n",
       "3      750   32.930\n",
       "4     1000   34.504\n",
       "5     2500   50.225\n",
       "6     5000   64.827\n",
       "7     7500   83.059\n",
       "8    10000   93.523\n",
       "9    25000  147.035\n",
       "10   50000  190.116\n",
       "11   75000  205.600\n",
       "12  100000  242.223"
      ]
     },
     "execution_count": 2,
     "metadata": {},
     "output_type": "execute_result"
    }
   ],
   "source": [
    "# Print the results.\n",
    "pd.set_option(\"display.precision\", 3)\n",
    "df1 = pd.read_csv('test_construction.csv', header=None)\n",
    "df1.columns = ['m', 'time']\n",
    "df1.sort_values(ascending=True, by='m', inplace=True)\n",
    "df1['time'] /= 1000000\n",
    "df1"
   ]
  },
  {
   "cell_type": "code",
   "execution_count": 3,
   "metadata": {},
   "outputs": [
    {
     "name": "stdout",
     "output_type": "stream",
     "text": [
      "\\begin{tabular}{rr}\n",
      "\\toprule\n",
      "      m &     time \\\\\n",
      "\\midrule\n",
      "    100 &   23.479 \\\\\n",
      "    250 &   27.087 \\\\\n",
      "    500 &   30.193 \\\\\n",
      "    750 &   32.930 \\\\\n",
      "   1000 &   34.504 \\\\\n",
      "   2500 &   50.225 \\\\\n",
      "   5000 &   64.827 \\\\\n",
      "   7500 &   83.059 \\\\\n",
      "  10000 &   93.523 \\\\\n",
      "  25000 &  147.035 \\\\\n",
      "  50000 &  190.116 \\\\\n",
      "  75000 &  205.600 \\\\\n",
      " 100000 &  242.223 \\\\\n",
      "\\bottomrule\n",
      "\\end{tabular}\n",
      "\n"
     ]
    }
   ],
   "source": [
    "print(df1.to_latex(index=False, escape=False))"
   ]
  },
  {
   "cell_type": "code",
   "execution_count": 11,
   "metadata": {},
   "outputs": [
    {
     "data": {
      "image/png": "[encoded data removed]",
      "text/plain": [
       "<Figure size 576x360 with 1 Axes>"
      ]
     },
     "metadata": {
      "needs_background": "light"
     },
     "output_type": "display_data"
    }
   ],
   "source": [
    "# Generate a plot.\n",
    "plt.figure(figsize=(8, 5))\n",
    "plt.title(\"MR-tree index construction time (c = 10)\")\n",
    "plt.plot(df1['m'], df1['time'], marker='o', color='black')\n",
    "plt.plot([x for x in range(100, 100000)], \n",
    "         [15*np.log2(x) for x in range(100, 100000)], color='black', linestyle=':')\n",
    "plt.ylabel(\"Time [ms]\")\n",
    "plt.xlabel(\"Number of records (m)\")\n",
    "plt.savefig(\"test_construction_m.png\", dpi=170, format='png', bbox_inches='tight')"
   ]
  }
 ],
 "metadata": {
  "kernelspec": {
   "display_name": "Python 3",
   "language": "python",
   "name": "python3"
  },
  "language_info": {
   "codemirror_mode": {
    "name": "ipython",
    "version": 3
   },
   "file_extension": ".py",
   "mimetype": "text/x-python",
   "name": "python",
   "nbconvert_exporter": "python",
   "pygments_lexer": "ipython3",
   "version": "3.8.3"
  }
 },
 "nbformat": 4,
 "nbformat_minor": 2
}
