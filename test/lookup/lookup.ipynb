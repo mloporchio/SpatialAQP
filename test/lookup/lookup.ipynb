{
 "cells": [
  {
   "cell_type": "code",
   "execution_count": 2,
   "metadata": {},
   "outputs": [],
   "source": [
    "import pandas as pd\n",
    "import numpy as np\n",
    "import matplotlib.pyplot as plt\n",
    "import os\n",
    "import random\n",
    "import struct\n",
    "import subprocess\n",
    "import sys"
   ]
  },
  {
   "cell_type": "code",
   "execution_count": 17,
   "metadata": {},
   "outputs": [],
   "source": [
    "base_dir = \"/Users/matteo/Documents/GitHub/SpatialAQP/test/skip\"\n",
    "exec_dir = \"../..\"\n",
    "input_file = \"skip_test.bin\"\n",
    "output_file = \"skip.csv\""
   ]
  },
  {
   "cell_type": "code",
   "execution_count": 21,
   "metadata": {},
   "outputs": [
    {
     "name": "stdout",
     "output_type": "stream",
     "text": [
      "Testing e=2...\n",
      "Testing e=3...\n",
      "Testing e=4...\n",
      "Testing e=5...\n",
      "Testing e=6...\n",
      "Testing e=7...\n",
      "Testing e=8...\n",
      "Testing e=9...\n",
      "Testing e=10...\n",
      "Testing e=11...\n",
      "Testing e=12...\n"
     ]
    }
   ],
   "source": [
    "# Test the skip list construction.\n",
    "\n",
    "ntrials = 5\n",
    "nentries = [2, 3, 4, 5, 6, 7, 8, 9, 10, 11, 12]\n",
    "\n",
    "os.chdir(base_dir)\n",
    "\n",
    "outfile = open(output_file, 'w')\n",
    "\n",
    "os.chdir(exec_dir)\n",
    "\n",
    "for e in nentries:\n",
    "    print('Testing e={}...'.format(e))\n",
    "    input_file_path = \"{}/{}\".format(base_dir, input_file)\n",
    "    time = 0\n",
    "    for i in range(0, ntrials):\n",
    "        p = subprocess.run([\"java\", \"TestSkip\", input_file_path, \"1\", str(e)], capture_output=True)\n",
    "        lines = p.stdout.decode('utf-8').splitlines()\n",
    "        time += int((lines[4].split(' '))[4])\n",
    "    time /= ntrials\n",
    "    outfile.write('{},{}\\n'.format(e,time))\n",
    "    \n",
    "outfile.close()\n",
    "\n",
    "os.chdir(base_dir)"
   ]
  },
  {
   "cell_type": "code",
   "execution_count": 3,
   "metadata": {},
   "outputs": [
    {
     "data": {
      "text/html": [
       "<div>\n",
       "<style scoped>\n",
       "    .dataframe tbody tr th:only-of-type {\n",
       "        vertical-align: middle;\n",
       "    }\n",
       "\n",
       "    .dataframe tbody tr th {\n",
       "        vertical-align: top;\n",
       "    }\n",
       "\n",
       "    .dataframe thead th {\n",
       "        text-align: right;\n",
       "    }\n",
       "</style>\n",
       "<table border=\"1\" class=\"dataframe\">\n",
       "  <thead>\n",
       "    <tr style=\"text-align: right;\">\n",
       "      <th></th>\n",
       "      <th>e</th>\n",
       "      <th>avg construction time</th>\n",
       "    </tr>\n",
       "  </thead>\n",
       "  <tbody>\n",
       "    <tr>\n",
       "      <th>0</th>\n",
       "      <td>2</td>\n",
       "      <td>0.003</td>\n",
       "    </tr>\n",
       "    <tr>\n",
       "      <th>1</th>\n",
       "      <td>3</td>\n",
       "      <td>0.005</td>\n",
       "    </tr>\n",
       "    <tr>\n",
       "      <th>2</th>\n",
       "      <td>4</td>\n",
       "      <td>0.007</td>\n",
       "    </tr>\n",
       "    <tr>\n",
       "      <th>3</th>\n",
       "      <td>5</td>\n",
       "      <td>0.010</td>\n",
       "    </tr>\n",
       "    <tr>\n",
       "      <th>4</th>\n",
       "      <td>6</td>\n",
       "      <td>0.016</td>\n",
       "    </tr>\n",
       "    <tr>\n",
       "      <th>5</th>\n",
       "      <td>7</td>\n",
       "      <td>0.025</td>\n",
       "    </tr>\n",
       "    <tr>\n",
       "      <th>6</th>\n",
       "      <td>8</td>\n",
       "      <td>0.043</td>\n",
       "    </tr>\n",
       "    <tr>\n",
       "      <th>7</th>\n",
       "      <td>9</td>\n",
       "      <td>0.078</td>\n",
       "    </tr>\n",
       "    <tr>\n",
       "      <th>8</th>\n",
       "      <td>10</td>\n",
       "      <td>0.148</td>\n",
       "    </tr>\n",
       "    <tr>\n",
       "      <th>9</th>\n",
       "      <td>11</td>\n",
       "      <td>0.317</td>\n",
       "    </tr>\n",
       "    <tr>\n",
       "      <th>10</th>\n",
       "      <td>12</td>\n",
       "      <td>0.584</td>\n",
       "    </tr>\n",
       "  </tbody>\n",
       "</table>\n",
       "</div>"
      ],
      "text/plain": [
       "     e  avg construction time\n",
       "0    2                  0.003\n",
       "1    3                  0.005\n",
       "2    4                  0.007\n",
       "3    5                  0.010\n",
       "4    6                  0.016\n",
       "5    7                  0.025\n",
       "6    8                  0.043\n",
       "7    9                  0.078\n",
       "8   10                  0.148\n",
       "9   11                  0.317\n",
       "10  12                  0.584"
      ]
     },
     "execution_count": 3,
     "metadata": {},
     "output_type": "execute_result"
    }
   ],
   "source": [
    "pd.set_option(\"display.precision\", 3)\n",
    "df1 = pd.read_csv('skip.csv', header=None)\n",
    "df1.columns = ['e', 'avg construction time']\n",
    "df1.sort_values(ascending=True, by='e', inplace=True)\n",
    "df1['avg construction time'] /= 1000000\n",
    "df1"
   ]
  },
  {
   "cell_type": "code",
   "execution_count": 4,
   "metadata": {},
   "outputs": [
    {
     "name": "stdout",
     "output_type": "stream",
     "text": [
      "\\begin{tabular}{rr}\n",
      "\\toprule\n",
      "  e &  avg construction time \\\\\n",
      "\\midrule\n",
      "  2 &                  0.003 \\\\\n",
      "  3 &                  0.005 \\\\\n",
      "  4 &                  0.007 \\\\\n",
      "  5 &                  0.010 \\\\\n",
      "  6 &                  0.016 \\\\\n",
      "  7 &                  0.025 \\\\\n",
      "  8 &                  0.043 \\\\\n",
      "  9 &                  0.078 \\\\\n",
      " 10 &                  0.148 \\\\\n",
      " 11 &                  0.317 \\\\\n",
      " 12 &                  0.584 \\\\\n",
      "\\bottomrule\n",
      "\\end{tabular}\n",
      "\n"
     ]
    }
   ],
   "source": [
    "print(df1.to_latex(index=False, escape=False))"
   ]
  },
  {
   "cell_type": "code",
   "execution_count": 5,
   "metadata": {},
   "outputs": [
    {
     "data": {
      "image/png": "[encoded data removed]",
      "text/plain": [
       "<Figure size 576x360 with 1 Axes>"
      ]
     },
     "metadata": {
      "needs_background": "light"
     },
     "output_type": "display_data"
    }
   ],
   "source": [
    "plt.figure(figsize=(8, 5))\n",
    "plt.title(\"Average skip list construction time\")\n",
    "plt.plot(df1['e'], df1['avg construction time'], marker='o', color='black')\n",
    "plt.ylabel(\"Time [ms]\")\n",
    "plt.xlabel(\"Number of entries\")\n",
    "plt.savefig(\"test_skip.png\", dpi=170, format='png', bbox_inches='tight')"
   ]
  },
  {
   "cell_type": "code",
   "execution_count": null,
   "metadata": {},
   "outputs": [],
   "source": []
  },
  {
   "cell_type": "code",
   "execution_count": null,
   "metadata": {},
   "outputs": [],
   "source": []
  },
  {
   "cell_type": "code",
   "execution_count": null,
   "metadata": {},
   "outputs": [],
   "source": []
  },
  {
   "cell_type": "code",
   "execution_count": null,
   "metadata": {},
   "outputs": [],
   "source": []
  },
  {
   "cell_type": "code",
   "execution_count": null,
   "metadata": {},
   "outputs": [],
   "source": []
  },
  {
   "cell_type": "code",
   "execution_count": 105,
   "metadata": {},
   "outputs": [
    {
     "name": "stdout",
     "output_type": "stream",
     "text": [
      "\\begin{tabular}{rrrrr}\n",
      "\\toprule\n",
      "   f &  avg query time &  avg verif time &  returned &  matching \\\\\n",
      "\\midrule\n",
      " 0.1 &           3.482 &          14.446 &   20000.0 &   10000.0 \\\\\n",
      " 0.2 &           4.055 &          21.281 &   30000.0 &   20000.0 \\\\\n",
      " 0.3 &           5.094 &          29.731 &   40000.0 &   30000.0 \\\\\n",
      " 0.4 &           7.095 &          42.773 &   60000.0 &   40000.0 \\\\\n",
      " 0.5 &           5.198 &          40.733 &   60000.0 &   50000.0 \\\\\n",
      " 0.6 &           5.978 &          57.657 &   70000.0 &   60000.0 \\\\\n",
      " 0.7 &           5.996 &          59.703 &   80000.0 &   70000.0 \\\\\n",
      " 0.8 &           6.322 &          63.450 &   90000.0 &   80000.0 \\\\\n",
      " 0.9 &           7.436 &          66.849 &  100000.0 &   90000.0 \\\\\n",
      "\\bottomrule\n",
      "\\end{tabular}\n",
      "\n"
     ]
    }
   ],
   "source": []
  },
  {
   "cell_type": "code",
   "execution_count": null,
   "metadata": {},
   "outputs": [],
   "source": [
    "plt.figure(figsize=(8, 5))\n",
    "#plt.title(\"MR-tree index construction time (n = 10000)\")\n",
    "#plt.plot(res['n'], res['mat_time'], color='gray', label='Matlab')\n",
    "plt.plot(df1['c'], df1['time'], color='black')\n",
    "plt.ylabel(\"Time [ms]\")\n",
    "plt.xlabel(\"c\")\n",
    "#plt.plot([x for x in range(100, 100000)], [x*np.log(x) for x in range(100, 100000)], color='black', linestyle='--')\n",
    "#plt.legend()\n",
    "plt.savefig(\"test_construction_capacity.png\", dpi=170, format='png', bbox_inches='tight')"
   ]
  }
 ],
 "metadata": {
  "kernelspec": {
   "display_name": "Python 3",
   "language": "python",
   "name": "python3"
  },
  "language_info": {
   "codemirror_mode": {
    "name": "ipython",
    "version": 3
   },
   "file_extension": ".py",
   "mimetype": "text/x-python",
   "name": "python",
   "nbconvert_exporter": "python",
   "pygments_lexer": "ipython3",
   "version": "3.8.3"
  }
 },
 "nbformat": 4,
 "nbformat_minor": 2
}
